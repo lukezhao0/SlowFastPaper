{
 "cells": [
  {
   "cell_type": "markdown",
   "id": "08c93aa6-dc87-47b5-aef8-e6511ebefd5d",
   "metadata": {},
   "source": [
    "# Command-line code for running pySCENIC analysis"
   ]
  },
  {
   "cell_type": "code",
   "execution_count": null,
   "id": "61138501-92ee-4c73-8daf-8296478f23c6",
   "metadata": {},
   "outputs": [],
   "source": [
    "# GRN inference\n",
    "pyscenic grn -o adj_s500.csv \\\n",
    "  -m grnboost2 \\\n",
    "  --seed 500 \\\n",
    "  \"exprMat.loom\" \\\n",
    "  \"/Users/xuanzhao/Documents/R/gradientWeighing/auxiliary_datasets/mm_mgi_tfs.txt\"\n",
    "\n",
    "# CTX enrichment\n",
    "pyscenic ctx adj_s500.csv \\\n",
    "  --all_modules \\\n",
    "  \"/Users/xuanzhao/Documents/R/gradientWeighing/auxiliary_datasets/cisTarget_databases/mm9-500bp-upstream-7species.mc9nr.feather\" \\\n",
    "  --annotations_fname  \"/Users/xuanzhao/Documents/R/gradientWeighing/auxiliary_datasets/motifs-v9-nr.mgi-m0.001-o0.0.tbl\" \\\n",
    "  --expression_mtx_fname  \"exprMat.loom\" \\\n",
    "  --output \"regulons_s500_nes2.5_min20_500bp.csv\" \\\n",
    "  --mask_dropouts \\\n",
    "  --num_workers 8 \\\n",
    "  --min_genes 20 \\\n",
    "  --nes_threshold 2.5\n",
    "\n",
    "# AUCell quantification\n",
    "pyscenic aucell --num_workers 8 --seed 10 --output \"regAUC.csv\" \"exprMat.loom\" \"reg.dat\""
   ]
  }
 ],
 "metadata": {
  "kernelspec": {
   "display_name": "Bash",
   "language": "bash",
   "name": "bash"
  },
  "language_info": {
   "codemirror_mode": "shell",
   "file_extension": ".sh",
   "mimetype": "text/x-sh",
   "name": "bash"
  }
 },
 "nbformat": 4,
 "nbformat_minor": 5
}
