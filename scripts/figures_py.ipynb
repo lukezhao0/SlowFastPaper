{
 "cells": [
  {
   "cell_type": "markdown",
   "id": "46979454-4c37-4a3a-9294-93c052452dbb",
   "metadata": {},
   "source": [
    "# Figure Code (python3)\n",
    "\n",
    "### Installing packages and libraries"
   ]
  },
  {
   "cell_type": "code",
   "execution_count": null,
   "id": "82c1f9f5-a668-4c8c-b44a-4343cb1b0bd0",
   "metadata": {},
   "outputs": [],
   "source": [
    "import pyscenic\n",
    "import scanpy as sc\n",
    "import pandas as pd\n",
    "import numpy as np\n",
    "import pickle\n",
    "from pyscenic.utils import load_motifs\n",
    "from pyscenic.prune import df2regulons\n",
    "from pyscenic.cli.utils import load_signatures\n",
    "from pyscenic.binarization import binarize\n",
    "from cytoolz import compose\n",
    "import operator as op\n",
    "import os\n",
    "\n",
    "from pyscenic.plotting import plot_binarization, plot_rss\n",
    "from pyscenic.rss import regulon_specificity_scores\n",
    "from pyscenic.export import add_scenic_metadata\n",
    "from IPython.display import HTML, display\n",
    "from adjustText import adjust_text\n",
    "from math import ceil, floor\n",
    "import matplotlib.pyplot as plt\n",
    "import seaborn as sns"
   ]
  },
  {
   "cell_type": "code",
   "execution_count": null,
   "id": "53c09f6d-3038-4bf6-9092-49139298b5f9",
   "metadata": {},
   "outputs": [],
   "source": [
    "# Figure 3b - HTML motif logos\n",
    "def fetch_logo(r, base_url = \"http://motifcollections.aertslab.org/v9/logos/\"):\n",
    "    for ele in r.context:\n",
    "        if ele.endswith('.png'):\n",
    "            return '<img src=\"{}{}\" style=\"max-height:124px;\"></img>'.format(base_url, ele)\n",
    "    return \"\"\n",
    "motif_logos = [ fetch_logo(i) for i in regulons_cutoff ]\n",
    "logos = ''\n",
    "for i in motif_logos:\n",
    "    logos += i \n",
    "    logos += '<br>'\n",
    "with open('/Users/xuanzhao/Documents/R/gradientWeighing/graphs/motif_logos.html', 'w') as f:\n",
    "    f.write(logos)\n",
    "    \n",
    "# Figure 3d - Regulon heatmap (pseudotime + all cell based)\n",
    "auc_mtx_Z_all = pd.DataFrame( index=auc_mtx.index )\n",
    "for col in list(auc_mtx.columns):\n",
    "    auc_mtx_Z_all[ col ] = ( auc_mtx[col] - auc_mtx[col].mean()) / auc_mtx[col].std(ddof=0)\n",
    "pseudotime_cell_list = metadata.sort_values('pseudotime', ascending = True)['cellname'].tolist()\n",
    "auc_mtx_Z_pseudotime = auc_mtx_Z_all.reindex(pseudotime_cell_list)\n",
    "\n",
    "xtick = ['0'] + ['']*1010 + ['0.5'] + ['']*1010 + ['1.0']\n",
    "sns.set(font_scale=1.2)\n",
    "g = sns.clustermap(auc_mtx_Z_pseudotime[regnames_cutoff].transpose(), annot=False,  square=False,  linecolor='gray',\n",
    "        xticklabels= xtick, cmap=\"coolwarm\", figsize=(21,16), row_cluster = True, col_cluster = False, vmin = -5, vmax = 5)\n",
    "g.cax.set_visible(True)\n",
    "# g.fig.suptitle('Regulon Activity (z-score) over Cell Identity') \n",
    "g.ax_heatmap.set_ylabel('Regulons (TF targets)')\n",
    "g.ax_heatmap.set_xlabel('Cell identity (pseudotime)')\n",
    "# plt.savefig(\"/Users/xuanzhao/Desktop/regulon_heatmap_pseudotime.png\")\n",
    "plt.show()\n"
   ]
  }
 ],
 "metadata": {
  "kernelspec": {
   "display_name": "Python 3 (ipykernel)",
   "language": "python",
   "name": "python3"
  },
  "language_info": {
   "codemirror_mode": {
    "name": "ipython",
    "version": 3
   },
   "file_extension": ".py",
   "mimetype": "text/x-python",
   "name": "python",
   "nbconvert_exporter": "python",
   "pygments_lexer": "ipython3",
   "version": "3.10.7"
  }
 },
 "nbformat": 4,
 "nbformat_minor": 5
}
